{
 "cells": [
  {
   "cell_type": "markdown",
   "metadata": {},
   "source": [
    "## Bug report classification"
   ]
  },
  {
   "cell_type": "code",
   "execution_count": 1,
   "metadata": {},
   "outputs": [],
   "source": [
    "%matplotlib inline\n",
    "import pandas as pd\n",
    "import numpy as np\n",
    "from time import time\n",
    "import matplotlib.pyplot as plt\n",
    "import sklearn.preprocessing\n",
    "import os,re"
   ]
  },
  {
   "cell_type": "code",
   "execution_count": 2,
   "metadata": {},
   "outputs": [
    {
     "name": "stdout",
     "output_type": "stream",
     "text": [
      "[nltk_data] Downloading package punkt to /home/ping-dev04/nltk_data...\n",
      "[nltk_data]   Package punkt is already up-to-date!\n"
     ]
    },
    {
     "data": {
      "text/plain": [
       "True"
      ]
     },
     "execution_count": 2,
     "metadata": {},
     "output_type": "execute_result"
    }
   ],
   "source": [
    "import nltk\n",
    "nltk.download('punkt')"
   ]
  },
  {
   "cell_type": "markdown",
   "metadata": {},
   "source": [
    "### Build data"
   ]
  },
  {
   "cell_type": "code",
   "execution_count": 3,
   "metadata": {},
   "outputs": [],
   "source": [
    "data = pd.read_csv('idata.csv')"
   ]
  },
  {
   "cell_type": "code",
   "execution_count": 4,
   "metadata": {},
   "outputs": [
    {
     "data": {
      "text/html": [
       "<div>\n",
       "<style scoped>\n",
       "    .dataframe tbody tr th:only-of-type {\n",
       "        vertical-align: middle;\n",
       "    }\n",
       "\n",
       "    .dataframe tbody tr th {\n",
       "        vertical-align: top;\n",
       "    }\n",
       "\n",
       "    .dataframe thead th {\n",
       "        text-align: right;\n",
       "    }\n",
       "</style>\n",
       "<table border=\"1\" class=\"dataframe\">\n",
       "  <thead>\n",
       "    <tr style=\"text-align: right;\">\n",
       "      <th></th>\n",
       "      <th>Bug ID</th>\n",
       "      <th>Product</th>\n",
       "      <th>Component</th>\n",
       "      <th>Summary</th>\n",
       "    </tr>\n",
       "  </thead>\n",
       "  <tbody>\n",
       "    <tr>\n",
       "      <th>0</th>\n",
       "      <td>1436291.0</td>\n",
       "      <td>Firefox for Android</td>\n",
       "      <td>Activity Stream</td>\n",
       "      <td>Context menu animation broken when \"Delete fro...</td>\n",
       "    </tr>\n",
       "    <tr>\n",
       "      <th>1</th>\n",
       "      <td>1436379.0</td>\n",
       "      <td>Firefox for Android</td>\n",
       "      <td>Activity Stream</td>\n",
       "      <td>Links do not work when Pocket stories are upda...</td>\n",
       "    </tr>\n",
       "    <tr>\n",
       "      <th>2</th>\n",
       "      <td>1254660.0</td>\n",
       "      <td>Firefox for Android</td>\n",
       "      <td>Activity Stream</td>\n",
       "      <td>Don't list both http and https versions of a U...</td>\n",
       "    </tr>\n",
       "    <tr>\n",
       "      <th>3</th>\n",
       "      <td>1273667.0</td>\n",
       "      <td>Firefox for Android</td>\n",
       "      <td>Activity Stream</td>\n",
       "      <td>Simplify long-press context menu for top sites...</td>\n",
       "    </tr>\n",
       "    <tr>\n",
       "      <th>4</th>\n",
       "      <td>1299685.0</td>\n",
       "      <td>Firefox for Android</td>\n",
       "      <td>Activity Stream</td>\n",
       "      <td>Consider replacing ActivityStream topsites' Vi...</td>\n",
       "    </tr>\n",
       "  </tbody>\n",
       "</table>\n",
       "</div>"
      ],
      "text/plain": [
       "      Bug ID              Product        Component  \\\n",
       "0  1436291.0  Firefox for Android  Activity Stream   \n",
       "1  1436379.0  Firefox for Android  Activity Stream   \n",
       "2  1254660.0  Firefox for Android  Activity Stream   \n",
       "3  1273667.0  Firefox for Android  Activity Stream   \n",
       "4  1299685.0  Firefox for Android  Activity Stream   \n",
       "\n",
       "                                             Summary  \n",
       "0  Context menu animation broken when \"Delete fro...  \n",
       "1  Links do not work when Pocket stories are upda...  \n",
       "2  Don't list both http and https versions of a U...  \n",
       "3  Simplify long-press context menu for top sites...  \n",
       "4  Consider replacing ActivityStream topsites' Vi...  "
      ]
     },
     "execution_count": 4,
     "metadata": {},
     "output_type": "execute_result"
    }
   ],
   "source": [
    "data.head()"
   ]
  },
  {
   "cell_type": "code",
   "execution_count": 5,
   "metadata": {},
   "outputs": [],
   "source": [
    "train = pd.DataFrame()\n",
    "train['bugID'] = data['Bug ID']\n",
    "train['text'] = data['Summary']"
   ]
  },
  {
   "cell_type": "code",
   "execution_count": 6,
   "metadata": {},
   "outputs": [
    {
     "data": {
      "text/html": [
       "<div>\n",
       "<style scoped>\n",
       "    .dataframe tbody tr th:only-of-type {\n",
       "        vertical-align: middle;\n",
       "    }\n",
       "\n",
       "    .dataframe tbody tr th {\n",
       "        vertical-align: top;\n",
       "    }\n",
       "\n",
       "    .dataframe thead th {\n",
       "        text-align: right;\n",
       "    }\n",
       "</style>\n",
       "<table border=\"1\" class=\"dataframe\">\n",
       "  <thead>\n",
       "    <tr style=\"text-align: right;\">\n",
       "      <th></th>\n",
       "      <th>bugID</th>\n",
       "      <th>text</th>\n",
       "    </tr>\n",
       "  </thead>\n",
       "  <tbody>\n",
       "    <tr>\n",
       "      <th>0</th>\n",
       "      <td>1436291.0</td>\n",
       "      <td>Context menu animation broken when \"Delete fro...</td>\n",
       "    </tr>\n",
       "    <tr>\n",
       "      <th>1</th>\n",
       "      <td>1436379.0</td>\n",
       "      <td>Links do not work when Pocket stories are upda...</td>\n",
       "    </tr>\n",
       "    <tr>\n",
       "      <th>2</th>\n",
       "      <td>1254660.0</td>\n",
       "      <td>Don't list both http and https versions of a U...</td>\n",
       "    </tr>\n",
       "    <tr>\n",
       "      <th>3</th>\n",
       "      <td>1273667.0</td>\n",
       "      <td>Simplify long-press context menu for top sites...</td>\n",
       "    </tr>\n",
       "    <tr>\n",
       "      <th>4</th>\n",
       "      <td>1299685.0</td>\n",
       "      <td>Consider replacing ActivityStream topsites' Vi...</td>\n",
       "    </tr>\n",
       "  </tbody>\n",
       "</table>\n",
       "</div>"
      ],
      "text/plain": [
       "       bugID                                               text\n",
       "0  1436291.0  Context menu animation broken when \"Delete fro...\n",
       "1  1436379.0  Links do not work when Pocket stories are upda...\n",
       "2  1254660.0  Don't list both http and https versions of a U...\n",
       "3  1273667.0  Simplify long-press context menu for top sites...\n",
       "4  1299685.0  Consider replacing ActivityStream topsites' Vi..."
      ]
     },
     "execution_count": 6,
     "metadata": {},
     "output_type": "execute_result"
    }
   ],
   "source": [
    "train.head()"
   ]
  },
  {
   "cell_type": "markdown",
   "metadata": {},
   "source": [
    "--------------"
   ]
  },
  {
   "cell_type": "markdown",
   "metadata": {},
   "source": [
    "### TFIDF Vectorization"
   ]
  },
  {
   "cell_type": "code",
   "execution_count": 7,
   "metadata": {},
   "outputs": [],
   "source": [
    "from sklearn.feature_extraction.text import TfidfVectorizer"
   ]
  },
  {
   "cell_type": "code",
   "execution_count": 8,
   "metadata": {},
   "outputs": [],
   "source": [
    "tfidf_vectorizer = TfidfVectorizer(analyzer=\"word\",\n",
    "                                   tokenizer=nltk.word_tokenize,\n",
    "                                   preprocessor=None,\n",
    "                                   stop_words='english',\n",
    "                                   max_features=None)\n",
    "sparce_tfidf = tfidf_vectorizer.fit_transform(train['text'])"
   ]
  },
  {
   "cell_type": "code",
   "execution_count": 9,
   "metadata": {},
   "outputs": [],
   "source": [
    "from sklearn.decomposition import TruncatedSVD"
   ]
  },
  {
   "cell_type": "code",
   "execution_count": 10,
   "metadata": {},
   "outputs": [],
   "source": [
    "svd = TruncatedSVD(n_components=100, n_iter=25, random_state=12)\n",
    "t_tfidf = svd.fit_transform(sparce_tfidf)"
   ]
  },
  {
   "cell_type": "markdown",
   "metadata": {},
   "source": [
    "-----------------"
   ]
  },
  {
   "cell_type": "markdown",
   "metadata": {},
   "source": [
    "### GMM"
   ]
  },
  {
   "cell_type": "code",
   "execution_count": 11,
   "metadata": {},
   "outputs": [],
   "source": [
    "from sklearn.mixture import GaussianMixture as GMM\n",
    "from sklearn.metrics import silhouette_score"
   ]
  },
  {
   "cell_type": "code",
   "execution_count": 12,
   "metadata": {},
   "outputs": [],
   "source": [
    "from IPython.display import display"
   ]
  },
  {
   "cell_type": "code",
   "execution_count": 13,
   "metadata": {},
   "outputs": [],
   "source": [
    "# method to find the best n_components\n",
    "def score_cluster(data, num_components):\n",
    "    clusterer = GMM(n_components=num_components)\n",
    "    clusterer.fit(data)\n",
    "    preds = clusterer.predict(data)\n",
    "    score = silhouette_score(data, preds)\n",
    "    return score"
   ]
  },
  {
   "cell_type": "code",
   "execution_count": 14,
   "metadata": {},
   "outputs": [
    {
     "name": "stdout",
     "output_type": "stream",
     "text": [
      "Silhouette Score for different sizes\n"
     ]
    }
   ],
   "source": [
    "print (\"Silhouette Score for different sizes\")\n",
    "silhouette_scores_matrix = pd.DataFrame(index=['Score'])"
   ]
  },
  {
   "cell_type": "code",
   "execution_count": 15,
   "metadata": {},
   "outputs": [],
   "source": [
    "for size in range(2,11):\n",
    "    silhouette_scores_matrix[size] = \\\n",
    "    pd.Series(score_cluster(t_tfidf, size),\\\n",
    "    index = silhouette_scores_matrix.index)"
   ]
  },
  {
   "cell_type": "code",
   "execution_count": 16,
   "metadata": {},
   "outputs": [
    {
     "data": {
      "text/html": [
       "<div>\n",
       "<style scoped>\n",
       "    .dataframe tbody tr th:only-of-type {\n",
       "        vertical-align: middle;\n",
       "    }\n",
       "\n",
       "    .dataframe tbody tr th {\n",
       "        vertical-align: top;\n",
       "    }\n",
       "\n",
       "    .dataframe thead th {\n",
       "        text-align: right;\n",
       "    }\n",
       "</style>\n",
       "<table border=\"1\" class=\"dataframe\">\n",
       "  <thead>\n",
       "    <tr style=\"text-align: right;\">\n",
       "      <th></th>\n",
       "      <th>2</th>\n",
       "      <th>3</th>\n",
       "      <th>4</th>\n",
       "      <th>5</th>\n",
       "      <th>6</th>\n",
       "      <th>7</th>\n",
       "      <th>8</th>\n",
       "      <th>9</th>\n",
       "      <th>10</th>\n",
       "    </tr>\n",
       "  </thead>\n",
       "  <tbody>\n",
       "    <tr>\n",
       "      <th>Score</th>\n",
       "      <td>-0.049044</td>\n",
       "      <td>-0.030824</td>\n",
       "      <td>-0.013987</td>\n",
       "      <td>-0.047036</td>\n",
       "      <td>-0.074541</td>\n",
       "      <td>-0.05676</td>\n",
       "      <td>-0.051063</td>\n",
       "      <td>-0.038443</td>\n",
       "      <td>-0.084138</td>\n",
       "    </tr>\n",
       "  </tbody>\n",
       "</table>\n",
       "</div>"
      ],
      "text/plain": [
       "             2         3         4         5         6        7         8   \\\n",
       "Score -0.049044 -0.030824 -0.013987 -0.047036 -0.074541 -0.05676 -0.051063   \n",
       "\n",
       "             9         10  \n",
       "Score -0.038443 -0.084138  "
      ]
     },
     "metadata": {},
     "output_type": "display_data"
    },
    {
     "name": "stdout",
     "output_type": "stream",
     "text": [
      "Best Score: -0.0855640793649877, n_components=3\n"
     ]
    }
   ],
   "source": [
    "display(silhouette_scores_matrix)\n",
    "\n",
    "best_n_components = 3\n",
    "\n",
    "# Apply the selected clustering algorithm to the reduced data \n",
    "clusterer = GMM(n_components=best_n_components)\n",
    "clusterer.fit(t_tfidf)\n",
    "\n",
    "# Predict the cluster for each data point\n",
    "preds = clusterer.predict(t_tfidf)\n",
    "\n",
    "# Find the cluster centers\n",
    "centers = clusterer.means_\n",
    "\n",
    "# Predict the cluster for each transformed sample data point\n",
    "sample_preds = clusterer.predict(t_tfidf[0:10])\n",
    "\n",
    "# Calculate the mean silhouette coefficient for the number of clusters chosen\n",
    "score = silhouette_score(t_tfidf, preds)\n",
    "\n",
    "print(\"Best Score: {}, n_components={}\".format(score, best_n_components))"
   ]
  },
  {
   "cell_type": "code",
   "execution_count": 17,
   "metadata": {},
   "outputs": [
    {
     "data": {
      "text/plain": [
       "<matplotlib.axes._subplots.AxesSubplot at 0x7f0c902a1d30>"
      ]
     },
     "execution_count": 17,
     "metadata": {},
     "output_type": "execute_result"
    },
    {
     "data": {
      "image/png": "[encoded data removed]",
      "text/plain": [
       "<matplotlib.figure.Figure at 0x7f0c9028e9e8>"
      ]
     },
     "metadata": {},
     "output_type": "display_data"
    }
   ],
   "source": [
    "silhouette_scores_matrix.plot(kind = \"barh\",figsize=(16,4))"
   ]
  },
  {
   "cell_type": "markdown",
   "metadata": {},
   "source": [
    "### Result"
   ]
  },
  {
   "cell_type": "code",
   "execution_count": 24,
   "metadata": {},
   "outputs": [
    {
     "data": {
      "text/plain": [
       "array([0, 1, 1, 0, 1, 1, 2, 0, 0, 1])"
      ]
     },
     "execution_count": 24,
     "metadata": {},
     "output_type": "execute_result"
    }
   ],
   "source": [
    "sample_preds"
   ]
  },
  {
   "cell_type": "code",
   "execution_count": 19,
   "metadata": {},
   "outputs": [],
   "source": [
    "clrs = []\n",
    "for item in preds:\n",
    "    if item ==0:\n",
    "        clrs.append('red')\n",
    "    elif item ==1:\n",
    "        clrs.append('blue')\n",
    "    elif item ==2:\n",
    "        clrs.append('green')\n",
    "        "
   ]
  },
  {
   "cell_type": "markdown",
   "metadata": {},
   "source": [
    "### Severity sclae is : 0,1,2"
   ]
  },
  {
   "cell_type": "code",
   "execution_count": 20,
   "metadata": {},
   "outputs": [],
   "source": [
    "resultdf = train.copy(deep =True)"
   ]
  },
  {
   "cell_type": "code",
   "execution_count": 21,
   "metadata": {},
   "outputs": [],
   "source": [
    "resultdf['label'] = preds"
   ]
  },
  {
   "cell_type": "code",
   "execution_count": 22,
   "metadata": {},
   "outputs": [
    {
     "data": {
      "text/html": [
       "<div>\n",
       "<style scoped>\n",
       "    .dataframe tbody tr th:only-of-type {\n",
       "        vertical-align: middle;\n",
       "    }\n",
       "\n",
       "    .dataframe tbody tr th {\n",
       "        vertical-align: top;\n",
       "    }\n",
       "\n",
       "    .dataframe thead th {\n",
       "        text-align: right;\n",
       "    }\n",
       "</style>\n",
       "<table border=\"1\" class=\"dataframe\">\n",
       "  <thead>\n",
       "    <tr style=\"text-align: right;\">\n",
       "      <th></th>\n",
       "      <th>bugID</th>\n",
       "      <th>text</th>\n",
       "      <th>label</th>\n",
       "    </tr>\n",
       "  </thead>\n",
       "  <tbody>\n",
       "    <tr>\n",
       "      <th>0</th>\n",
       "      <td>1436291.0</td>\n",
       "      <td>Context menu animation broken when \"Delete fro...</td>\n",
       "      <td>0</td>\n",
       "    </tr>\n",
       "    <tr>\n",
       "      <th>1</th>\n",
       "      <td>1436379.0</td>\n",
       "      <td>Links do not work when Pocket stories are upda...</td>\n",
       "      <td>1</td>\n",
       "    </tr>\n",
       "    <tr>\n",
       "      <th>2</th>\n",
       "      <td>1254660.0</td>\n",
       "      <td>Don't list both http and https versions of a U...</td>\n",
       "      <td>1</td>\n",
       "    </tr>\n",
       "    <tr>\n",
       "      <th>3</th>\n",
       "      <td>1273667.0</td>\n",
       "      <td>Simplify long-press context menu for top sites...</td>\n",
       "      <td>0</td>\n",
       "    </tr>\n",
       "    <tr>\n",
       "      <th>4</th>\n",
       "      <td>1299685.0</td>\n",
       "      <td>Consider replacing ActivityStream topsites' Vi...</td>\n",
       "      <td>1</td>\n",
       "    </tr>\n",
       "    <tr>\n",
       "      <th>5</th>\n",
       "      <td>1315197.0</td>\n",
       "      <td>Activity Stream topsites: fix default announc...</td>\n",
       "      <td>1</td>\n",
       "    </tr>\n",
       "    <tr>\n",
       "      <th>6</th>\n",
       "      <td>1319485.0</td>\n",
       "      <td>Add domains table, with domain_id FK in histor...</td>\n",
       "      <td>2</td>\n",
       "    </tr>\n",
       "    <tr>\n",
       "      <th>7</th>\n",
       "      <td>1320803.0</td>\n",
       "      <td>Ability to store/retrieve custom name for a To...</td>\n",
       "      <td>0</td>\n",
       "    </tr>\n",
       "    <tr>\n",
       "      <th>8</th>\n",
       "      <td>1320806.0</td>\n",
       "      <td>Allow removing Top Sites items without removin...</td>\n",
       "      <td>0</td>\n",
       "    </tr>\n",
       "    <tr>\n",
       "      <th>9</th>\n",
       "      <td>1322501.0</td>\n",
       "      <td>Asynchronously obtain, send, and store image d...</td>\n",
       "      <td>1</td>\n",
       "    </tr>\n",
       "    <tr>\n",
       "      <th>10</th>\n",
       "      <td>1322564.0</td>\n",
       "      <td>Consider loading icons from the network</td>\n",
       "      <td>1</td>\n",
       "    </tr>\n",
       "    <tr>\n",
       "      <th>11</th>\n",
       "      <td>1324452.0</td>\n",
       "      <td>Context menu is misplaced and wrongly rendered...</td>\n",
       "      <td>0</td>\n",
       "    </tr>\n",
       "    <tr>\n",
       "      <th>12</th>\n",
       "      <td>1333545.0</td>\n",
       "      <td>Box/Border around items in NavigationView on A...</td>\n",
       "      <td>0</td>\n",
       "    </tr>\n",
       "    <tr>\n",
       "      <th>13</th>\n",
       "      <td>1335817.0</td>\n",
       "      <td>Highlights algorithm: Add domain visit frequency</td>\n",
       "      <td>2</td>\n",
       "    </tr>\n",
       "    <tr>\n",
       "      <th>14</th>\n",
       "      <td>1335819.0</td>\n",
       "      <td>Highlights algorithm: Use main image size</td>\n",
       "      <td>0</td>\n",
       "    </tr>\n",
       "    <tr>\n",
       "      <th>15</th>\n",
       "      <td>1335824.0</td>\n",
       "      <td>Highlights algorithm: Consider lowering score ...</td>\n",
       "      <td>0</td>\n",
       "    </tr>\n",
       "    <tr>\n",
       "      <th>16</th>\n",
       "      <td>1338561.0</td>\n",
       "      <td>An incomplete preview context menu is displaye...</td>\n",
       "      <td>0</td>\n",
       "    </tr>\n",
       "    <tr>\n",
       "      <th>17</th>\n",
       "      <td>1340541.0</td>\n",
       "      <td>Add toast when user chooses to Copy Address fr...</td>\n",
       "      <td>0</td>\n",
       "    </tr>\n",
       "    <tr>\n",
       "      <th>18</th>\n",
       "      <td>1350886.0</td>\n",
       "      <td>Remove MOZ_ANDROID_ACTIVITY_STREAM build flag</td>\n",
       "      <td>1</td>\n",
       "    </tr>\n",
       "    <tr>\n",
       "      <th>19</th>\n",
       "      <td>1352342.0</td>\n",
       "      <td>Screen is hard to use on large tablets</td>\n",
       "      <td>1</td>\n",
       "    </tr>\n",
       "    <tr>\n",
       "      <th>20</th>\n",
       "      <td>1377292.0</td>\n",
       "      <td>Unify context menus</td>\n",
       "      <td>0</td>\n",
       "    </tr>\n",
       "    <tr>\n",
       "      <th>21</th>\n",
       "      <td>1386725.0</td>\n",
       "      <td>Remove old top sites code once the new Activit...</td>\n",
       "      <td>1</td>\n",
       "    </tr>\n",
       "    <tr>\n",
       "      <th>22</th>\n",
       "      <td>1388187.0</td>\n",
       "      <td>Highlights query is still very slow</td>\n",
       "      <td>1</td>\n",
       "    </tr>\n",
       "    <tr>\n",
       "      <th>23</th>\n",
       "      <td>1388392.0</td>\n",
       "      <td>Top Sites: Show next page partially</td>\n",
       "      <td>1</td>\n",
       "    </tr>\n",
       "    <tr>\n",
       "      <th>24</th>\n",
       "      <td>1388415.0</td>\n",
       "      <td>Investigate how big highlight preview images are</td>\n",
       "      <td>1</td>\n",
       "    </tr>\n",
       "    <tr>\n",
       "      <th>25</th>\n",
       "      <td>1388558.0</td>\n",
       "      <td>Default top-sites background is the same as th...</td>\n",
       "      <td>1</td>\n",
       "    </tr>\n",
       "    <tr>\n",
       "      <th>26</th>\n",
       "      <td>1389200.0</td>\n",
       "      <td>Add \"Save to Pocket\" to context menu options f...</td>\n",
       "      <td>0</td>\n",
       "    </tr>\n",
       "    <tr>\n",
       "      <th>27</th>\n",
       "      <td>1389259.0</td>\n",
       "      <td>Use screenshots for pages in Top Sites for low...</td>\n",
       "      <td>1</td>\n",
       "    </tr>\n",
       "    <tr>\n",
       "      <th>28</th>\n",
       "      <td>1390257.0</td>\n",
       "      <td>Default \"letter\" favicons font size seems too ...</td>\n",
       "      <td>1</td>\n",
       "    </tr>\n",
       "    <tr>\n",
       "      <th>29</th>\n",
       "      <td>1390970.0</td>\n",
       "      <td>Add Pocket entry point if Pocket isn't installed</td>\n",
       "      <td>0</td>\n",
       "    </tr>\n",
       "    <tr>\n",
       "      <th>...</th>\n",
       "      <td>...</td>\n",
       "      <td>...</td>\n",
       "      <td>...</td>\n",
       "    </tr>\n",
       "    <tr>\n",
       "      <th>70</th>\n",
       "      <td>1038960.0</td>\n",
       "      <td>Unable to pin top site: foreign key constraint...</td>\n",
       "      <td>0</td>\n",
       "    </tr>\n",
       "    <tr>\n",
       "      <th>71</th>\n",
       "      <td>1314902.0</td>\n",
       "      <td>Remove duplicated vector icons</td>\n",
       "      <td>1</td>\n",
       "    </tr>\n",
       "    <tr>\n",
       "      <th>72</th>\n",
       "      <td>1401519.0</td>\n",
       "      <td>Top Sites area is still scrollable after reac...</td>\n",
       "      <td>0</td>\n",
       "    </tr>\n",
       "    <tr>\n",
       "      <th>73</th>\n",
       "      <td>1406046.0</td>\n",
       "      <td>Intermittent testActivityStreamPocketReferrer ...</td>\n",
       "      <td>1</td>\n",
       "    </tr>\n",
       "    <tr>\n",
       "      <th>74</th>\n",
       "      <td>1332621.0</td>\n",
       "      <td>Duplicate top sites due to multiple redirects ...</td>\n",
       "      <td>2</td>\n",
       "    </tr>\n",
       "    <tr>\n",
       "      <th>75</th>\n",
       "      <td>1400824.0</td>\n",
       "      <td>Can't reorder the pinned sites</td>\n",
       "      <td>0</td>\n",
       "    </tr>\n",
       "    <tr>\n",
       "      <th>76</th>\n",
       "      <td>1390368.0</td>\n",
       "      <td>Intermittent testActivityStreamContextMenu | T...</td>\n",
       "      <td>1</td>\n",
       "    </tr>\n",
       "    <tr>\n",
       "      <th>77</th>\n",
       "      <td>1308582.0</td>\n",
       "      <td>Disabling installed Add-ons does not work prop...</td>\n",
       "      <td>1</td>\n",
       "    </tr>\n",
       "    <tr>\n",
       "      <th>78</th>\n",
       "      <td>1233548.0</td>\n",
       "      <td>Firefox for Android shows dialogs with \"The ad...</td>\n",
       "      <td>0</td>\n",
       "    </tr>\n",
       "    <tr>\n",
       "      <th>79</th>\n",
       "      <td>841793.0</td>\n",
       "      <td>We should display add-ons that don't work on p...</td>\n",
       "      <td>1</td>\n",
       "    </tr>\n",
       "    <tr>\n",
       "      <th>80</th>\n",
       "      <td>887201.0</td>\n",
       "      <td>No obvious way to update extensions in Firefox...</td>\n",
       "      <td>1</td>\n",
       "    </tr>\n",
       "    <tr>\n",
       "      <th>81</th>\n",
       "      <td>895032.0</td>\n",
       "      <td>Do not initialize addon-manager related compon...</td>\n",
       "      <td>1</td>\n",
       "    </tr>\n",
       "    <tr>\n",
       "      <th>82</th>\n",
       "      <td>946617.0</td>\n",
       "      <td>Adding an add-on from our addons site doesn't ...</td>\n",
       "      <td>1</td>\n",
       "    </tr>\n",
       "    <tr>\n",
       "      <th>83</th>\n",
       "      <td>1010752.0</td>\n",
       "      <td>Add-ons Manager becomes horizontally scrollabl...</td>\n",
       "      <td>0</td>\n",
       "    </tr>\n",
       "    <tr>\n",
       "      <th>84</th>\n",
       "      <td>1049864.0</td>\n",
       "      <td>Investigate why the test for bug 687194 fails ...</td>\n",
       "      <td>1</td>\n",
       "    </tr>\n",
       "    <tr>\n",
       "      <th>85</th>\n",
       "      <td>1053402.0</td>\n",
       "      <td>UX work - Surface addons in browser chrome</td>\n",
       "      <td>1</td>\n",
       "    </tr>\n",
       "    <tr>\n",
       "      <th>86</th>\n",
       "      <td>1063245.0</td>\n",
       "      <td>Unable to copy or paste in add-on settings wit...</td>\n",
       "      <td>1</td>\n",
       "    </tr>\n",
       "    <tr>\n",
       "      <th>87</th>\n",
       "      <td>1108763.0</td>\n",
       "      <td>Lightweight themes are disabled in add-on mana...</td>\n",
       "      <td>1</td>\n",
       "    </tr>\n",
       "    <tr>\n",
       "      <th>88</th>\n",
       "      <td>1173896.0</td>\n",
       "      <td>No UI to explain disabled blocklisted add-ons</td>\n",
       "      <td>1</td>\n",
       "    </tr>\n",
       "    <tr>\n",
       "      <th>89</th>\n",
       "      <td>1194125.0</td>\n",
       "      <td>Show warning in add-on manager list for add-on...</td>\n",
       "      <td>1</td>\n",
       "    </tr>\n",
       "    <tr>\n",
       "      <th>90</th>\n",
       "      <td>1196203.0</td>\n",
       "      <td>Re-opening an add-on page from the history mig...</td>\n",
       "      <td>2</td>\n",
       "    </tr>\n",
       "    <tr>\n",
       "      <th>91</th>\n",
       "      <td>1197535.0</td>\n",
       "      <td>Installing the same extension multiple times w...</td>\n",
       "      <td>0</td>\n",
       "    </tr>\n",
       "    <tr>\n",
       "      <th>92</th>\n",
       "      <td>1202379.0</td>\n",
       "      <td>Firefox for Android should be clearer when fai...</td>\n",
       "      <td>0</td>\n",
       "    </tr>\n",
       "    <tr>\n",
       "      <th>93</th>\n",
       "      <td>1225969.0</td>\n",
       "      <td>Add a way to install addons from the Play Store</td>\n",
       "      <td>0</td>\n",
       "    </tr>\n",
       "    <tr>\n",
       "      <th>94</th>\n",
       "      <td>1230292.0</td>\n",
       "      <td>Improve failure message when installing via di...</td>\n",
       "      <td>1</td>\n",
       "    </tr>\n",
       "    <tr>\n",
       "      <th>95</th>\n",
       "      <td>1256717.0</td>\n",
       "      <td>Possibly use the new disco pane</td>\n",
       "      <td>0</td>\n",
       "    </tr>\n",
       "    <tr>\n",
       "      <th>96</th>\n",
       "      <td>1348595.0</td>\n",
       "      <td>Intermittent dom/media/test/test_load.html | T...</td>\n",
       "      <td>1</td>\n",
       "    </tr>\n",
       "    <tr>\n",
       "      <th>97</th>\n",
       "      <td>1400818.0</td>\n",
       "      <td>Update icon overlaps the description text from...</td>\n",
       "      <td>1</td>\n",
       "    </tr>\n",
       "    <tr>\n",
       "      <th>98</th>\n",
       "      <td>1433670.0</td>\n",
       "      <td>Add-on install whitelist occasionally forgets ...</td>\n",
       "      <td>2</td>\n",
       "    </tr>\n",
       "    <tr>\n",
       "      <th>99</th>\n",
       "      <td>1091237.0</td>\n",
       "      <td>Show more information in add-ons detail view i...</td>\n",
       "      <td>1</td>\n",
       "    </tr>\n",
       "  </tbody>\n",
       "</table>\n",
       "<p>100 rows × 3 columns</p>\n",
       "</div>"
      ],
      "text/plain": [
       "        bugID                                               text  label\n",
       "0   1436291.0  Context menu animation broken when \"Delete fro...      0\n",
       "1   1436379.0  Links do not work when Pocket stories are upda...      1\n",
       "2   1254660.0  Don't list both http and https versions of a U...      1\n",
       "3   1273667.0  Simplify long-press context menu for top sites...      0\n",
       "4   1299685.0  Consider replacing ActivityStream topsites' Vi...      1\n",
       "5   1315197.0   Activity Stream topsites: fix default announc...      1\n",
       "6   1319485.0  Add domains table, with domain_id FK in histor...      2\n",
       "7   1320803.0  Ability to store/retrieve custom name for a To...      0\n",
       "8   1320806.0  Allow removing Top Sites items without removin...      0\n",
       "9   1322501.0  Asynchronously obtain, send, and store image d...      1\n",
       "10  1322564.0            Consider loading icons from the network      1\n",
       "11  1324452.0  Context menu is misplaced and wrongly rendered...      0\n",
       "12  1333545.0  Box/Border around items in NavigationView on A...      0\n",
       "13  1335817.0   Highlights algorithm: Add domain visit frequency      2\n",
       "14  1335819.0          Highlights algorithm: Use main image size      0\n",
       "15  1335824.0  Highlights algorithm: Consider lowering score ...      0\n",
       "16  1338561.0  An incomplete preview context menu is displaye...      0\n",
       "17  1340541.0  Add toast when user chooses to Copy Address fr...      0\n",
       "18  1350886.0      Remove MOZ_ANDROID_ACTIVITY_STREAM build flag      1\n",
       "19  1352342.0             Screen is hard to use on large tablets      1\n",
       "20  1377292.0                                Unify context menus      0\n",
       "21  1386725.0  Remove old top sites code once the new Activit...      1\n",
       "22  1388187.0                Highlights query is still very slow      1\n",
       "23  1388392.0                Top Sites: Show next page partially      1\n",
       "24  1388415.0   Investigate how big highlight preview images are      1\n",
       "25  1388558.0  Default top-sites background is the same as th...      1\n",
       "26  1389200.0  Add \"Save to Pocket\" to context menu options f...      0\n",
       "27  1389259.0  Use screenshots for pages in Top Sites for low...      1\n",
       "28  1390257.0  Default \"letter\" favicons font size seems too ...      1\n",
       "29  1390970.0   Add Pocket entry point if Pocket isn't installed      0\n",
       "..        ...                                                ...    ...\n",
       "70  1038960.0  Unable to pin top site: foreign key constraint...      0\n",
       "71  1314902.0                     Remove duplicated vector icons      1\n",
       "72  1401519.0   Top Sites area is still scrollable after reac...      0\n",
       "73  1406046.0  Intermittent testActivityStreamPocketReferrer ...      1\n",
       "74  1332621.0  Duplicate top sites due to multiple redirects ...      2\n",
       "75  1400824.0                     Can't reorder the pinned sites      0\n",
       "76  1390368.0  Intermittent testActivityStreamContextMenu | T...      1\n",
       "77  1308582.0  Disabling installed Add-ons does not work prop...      1\n",
       "78  1233548.0  Firefox for Android shows dialogs with \"The ad...      0\n",
       "79   841793.0  We should display add-ons that don't work on p...      1\n",
       "80   887201.0  No obvious way to update extensions in Firefox...      1\n",
       "81   895032.0  Do not initialize addon-manager related compon...      1\n",
       "82   946617.0  Adding an add-on from our addons site doesn't ...      1\n",
       "83  1010752.0  Add-ons Manager becomes horizontally scrollabl...      0\n",
       "84  1049864.0  Investigate why the test for bug 687194 fails ...      1\n",
       "85  1053402.0         UX work - Surface addons in browser chrome      1\n",
       "86  1063245.0  Unable to copy or paste in add-on settings wit...      1\n",
       "87  1108763.0  Lightweight themes are disabled in add-on mana...      1\n",
       "88  1173896.0      No UI to explain disabled blocklisted add-ons      1\n",
       "89  1194125.0  Show warning in add-on manager list for add-on...      1\n",
       "90  1196203.0  Re-opening an add-on page from the history mig...      2\n",
       "91  1197535.0  Installing the same extension multiple times w...      0\n",
       "92  1202379.0  Firefox for Android should be clearer when fai...      0\n",
       "93  1225969.0    Add a way to install addons from the Play Store      0\n",
       "94  1230292.0  Improve failure message when installing via di...      1\n",
       "95  1256717.0                    Possibly use the new disco pane      0\n",
       "96  1348595.0  Intermittent dom/media/test/test_load.html | T...      1\n",
       "97  1400818.0  Update icon overlaps the description text from...      1\n",
       "98  1433670.0  Add-on install whitelist occasionally forgets ...      2\n",
       "99  1091237.0  Show more information in add-ons detail view i...      1\n",
       "\n",
       "[100 rows x 3 columns]"
      ]
     },
     "execution_count": 22,
     "metadata": {},
     "output_type": "execute_result"
    }
   ],
   "source": [
    "resultdf.head(100)"
   ]
  },
  {
   "cell_type": "code",
   "execution_count": 23,
   "metadata": {},
   "outputs": [
    {
     "data": {
      "text/html": [
       "<div>\n",
       "<style scoped>\n",
       "    .dataframe tbody tr th:only-of-type {\n",
       "        vertical-align: middle;\n",
       "    }\n",
       "\n",
       "    .dataframe tbody tr th {\n",
       "        vertical-align: top;\n",
       "    }\n",
       "\n",
       "    .dataframe thead th {\n",
       "        text-align: right;\n",
       "    }\n",
       "</style>\n",
       "<table border=\"1\" class=\"dataframe\">\n",
       "  <thead>\n",
       "    <tr style=\"text-align: right;\">\n",
       "      <th></th>\n",
       "      <th>bugID</th>\n",
       "      <th>text</th>\n",
       "    </tr>\n",
       "    <tr>\n",
       "      <th>label</th>\n",
       "      <th></th>\n",
       "      <th></th>\n",
       "    </tr>\n",
       "  </thead>\n",
       "  <tbody>\n",
       "    <tr>\n",
       "      <th>0</th>\n",
       "      <td>1580</td>\n",
       "      <td>1644</td>\n",
       "    </tr>\n",
       "    <tr>\n",
       "      <th>1</th>\n",
       "      <td>3332</td>\n",
       "      <td>3427</td>\n",
       "    </tr>\n",
       "    <tr>\n",
       "      <th>2</th>\n",
       "      <td>1035</td>\n",
       "      <td>1083</td>\n",
       "    </tr>\n",
       "  </tbody>\n",
       "</table>\n",
       "</div>"
      ],
      "text/plain": [
       "       bugID  text\n",
       "label             \n",
       "0       1580  1644\n",
       "1       3332  3427\n",
       "2       1035  1083"
      ]
     },
     "execution_count": 23,
     "metadata": {},
     "output_type": "execute_result"
    }
   ],
   "source": [
    "resultdf.groupby(['label']).count()"
   ]
  },
  {
   "cell_type": "markdown",
   "metadata": {},
   "source": [
    "----------"
   ]
  },
  {
   "cell_type": "code",
   "execution_count": null,
   "metadata": {},
   "outputs": [],
   "source": []
  }
 ],
 "metadata": {
  "kernelspec": {
   "display_name": "Python 3",
   "language": "python",
   "name": "python3"
  },
  "language_info": {
   "codemirror_mode": {
    "name": "ipython",
    "version": 3
   },
   "file_extension": ".py",
   "mimetype": "text/x-python",
   "name": "python",
   "nbconvert_exporter": "python",
   "pygments_lexer": "ipython3",
   "version": "3.6.4"
  }
 },
 "nbformat": 4,
 "nbformat_minor": 2
}
